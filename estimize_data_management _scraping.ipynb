{
 "cells": [
  {
   "cell_type": "code",
   "execution_count": 25,
   "id": "8e8486ee",
   "metadata": {},
   "outputs": [
    {
     "name": "stderr",
     "output_type": "stream",
     "text": [
      "<ipython-input-25-b79a813e51d8>:17: DeprecationWarning: use options instead of chrome_options\n",
      "  driver = webdriver.Chrome(\"C:/Users/akhil/OneDrive/Desktop/data management for analytics/chromedriver\", chrome_options=chrome_options)\n"
     ]
    },
    {
     "ename": "NameError",
     "evalue": "name 'estimize_mean' is not defined",
     "output_type": "error",
     "traceback": [
      "\u001b[1;31m---------------------------------------------------------------------------\u001b[0m",
      "\u001b[1;31mNameError\u001b[0m                                 Traceback (most recent call last)",
      "\u001b[1;32m<ipython-input-25-b79a813e51d8>\u001b[0m in \u001b[0;36m<module>\u001b[1;34m\u001b[0m\n\u001b[0;32m     48\u001b[0m     \u001b[0mestimize_consensus\u001b[0m\u001b[1;33m=\u001b[0m\u001b[0mdriver\u001b[0m\u001b[1;33m.\u001b[0m\u001b[0mfind_element_by_xpath\u001b[0m\u001b[1;33m(\u001b[0m\u001b[1;34m\"//*[@id='estimates']/table/tbody[1]/tr[2]/td[4]\"\u001b[0m\u001b[1;33m)\u001b[0m\u001b[1;33m\u001b[0m\u001b[1;33m\u001b[0m\u001b[0m\n\u001b[0;32m     49\u001b[0m     \u001b[1;31m#estimize_mean=driver.find_element_by_xpath(\"//*[@id='estimates']/table/tbody[1]/tr[3]/td[4]\")\u001b[0m\u001b[1;33m\u001b[0m\u001b[1;33m\u001b[0m\u001b[1;33m\u001b[0m\u001b[0m\n\u001b[1;32m---> 50\u001b[1;33m     \u001b[0mprint\u001b[0m\u001b[1;33m(\u001b[0m\u001b[0mreported_earnings\u001b[0m\u001b[1;33m,\u001b[0m\u001b[0mestimize_consensus\u001b[0m\u001b[1;33m,\u001b[0m\u001b[0mestimize_mean\u001b[0m\u001b[1;33m)\u001b[0m\u001b[1;33m\u001b[0m\u001b[1;33m\u001b[0m\u001b[0m\n\u001b[0m\u001b[0;32m     51\u001b[0m \u001b[1;33m\u001b[0m\u001b[0m\n\u001b[0;32m     52\u001b[0m     \u001b[1;31m#print(ticker_name,Company_name,sector_name,Industries,followers,analysts)\u001b[0m\u001b[1;33m\u001b[0m\u001b[1;33m\u001b[0m\u001b[1;33m\u001b[0m\u001b[0m\n",
      "\u001b[1;31mNameError\u001b[0m: name 'estimize_mean' is not defined"
     ]
    }
   ],
   "source": [
    "from selenium import webdriver\n",
    "from scrapy.selector import Selector\n",
    "import platform\n",
    "import time\n",
    "import random\n",
    "import re\n",
    "import pandas as pd\n",
    "import numpy as np\n",
    "from selenium.webdriver.common.keys import Keys\n",
    "from time import sleep\n",
    "import csv\n",
    "from pandas import *\n",
    "\n",
    "chrome_options =webdriver.ChromeOptions()\n",
    "chrome_options.add_argument(\"start-maximized\")\n",
    "\n",
    "driver = webdriver.Chrome(\"C:/Users/akhil/OneDrive/Desktop/data management for analytics/chromedriver\", chrome_options=chrome_options)\n",
    "driver.fullscreen_window()\n",
    "\n",
    "driver.get(\"https://www.estimize.com/following/suggested\")\n",
    "sleep(10)\n",
    "email_field = driver.find_element_by_xpath(\"//*[@id='user_login']\")\n",
    "email_field.send_keys(\"jeevanaddepalli@gmail.com\")\n",
    "password_field=driver.find_element_by_xpath(\"//*[@id='user_password']\")\n",
    "password_field.send_keys(\"akhi879060\")\n",
    "login_tab=driver.find_element_by_xpath(\"//*[@id='new_user']/input[3]\")\n",
    "login_tab.click()\n",
    "\n",
    "\n",
    "\n",
    "lst=['GPC', 'ALV', 'GNTX','VNE', 'TOWR', 'DAN' ,'SMP', 'ALSN','DORM', 'IEP', 'MGA', 'MPAA', 'FOXF', 'WGO', 'TSLA', 'HOG', 'FCAU', 'RACE', 'GM', 'HMC', 'NIO','THO','PRDO', 'APEI', 'HI', 'STON',\n",
    "     'MATW','HRB','DPZ','ISCA','CCL','HRB','DPZ','ISCA','SONC','QSR','TACO','CMG','LVS','BJRI','BLMN','BYD','DENN','EAT','WYND','SIX','PENN','SBUX','MGM']\n",
    "\n",
    "for i in range(len(lst)):\n",
    "    search_bar=driver.find_element_by_xpath(\"//*[@id='search']\")\n",
    "    search_bar.send_keys(lst[i] + \"\\n\")\n",
    "    sleep(25)\n",
    "    ticker_name=driver.find_element_by_xpath(\"//*[@id='releases_show']/div[4]/div[2]/div/div[1]/div/div/div/div[1]/h1/a\").text\n",
    "    Company_name=driver.find_element_by_xpath(\"//*[@id='releases_show']/div[4]/div[2]/div/div[1]/div/div/div/div[1]/p/a\").text\n",
    "    sector_name=driver.find_element_by_xpath(\"//*[@id='releases_show']/div[4]/div[2]/div/div[1]/div/div/div/p/span[1]/a/span\").text\n",
    "    Industries=driver.find_element_by_xpath(\"//*[@id='releases_show']/div[4]/div[2]/div/div[1]/div/div/div/p/span[2]/a/span\").text\n",
    "    followers=driver.find_element_by_xpath(\"//*[@id='summary-stats']/div/div/div[1]/div[2]\").text\n",
    "    analysts=driver.find_element_by_xpath(\"//*[@id='summary-stats']/div/div/div[2]/a\").text\n",
    "    #first_quarter_2020=driver.find_element_by_xpath(\"//*[@id='highcharts-66']/div/span[7]/a\")\n",
    "    #first_quater_2020.click()\n",
    "    \n",
    "    reported_earnings=driver.find_element_by_xpath(\"//*[@id='estimates']/table/tbody[1]/tr[1]/td[4]\")\n",
    "    estimize_consensus=driver.find_element_by_xpath(\"//*[@id='estimates']/table/tbody[1]/tr[2]/td[4]\")\n",
    "    #estimize_mean=driver.find_element_by_xpath(\"//*[@id='estimates']/table/tbody[1]/tr[3]/td[4]\")\n",
    "    print(reported_earnings,estimize_consensus)\n",
    "    \n",
    "    #print(ticker_name,Company_name,sector_name,Industries,followers,analysts)\n",
    "    \n",
    "\n",
    "\n"
   ]
  },
  {
   "cell_type": "code",
   "execution_count": null,
   "id": "924cf535",
   "metadata": {},
   "outputs": [],
   "source": []
  },
  {
   "cell_type": "code",
   "execution_count": null,
   "id": "198e7187",
   "metadata": {},
   "outputs": [],
   "source": []
  }
 ],
 "metadata": {
  "kernelspec": {
   "display_name": "Python 3",
   "language": "python",
   "name": "python3"
  },
  "language_info": {
   "codemirror_mode": {
    "name": "ipython",
    "version": 3
   },
   "file_extension": ".py",
   "mimetype": "text/x-python",
   "name": "python",
   "nbconvert_exporter": "python",
   "pygments_lexer": "ipython3",
   "version": "3.8.8"
  }
 },
 "nbformat": 4,
 "nbformat_minor": 5
}
